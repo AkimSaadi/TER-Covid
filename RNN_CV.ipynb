{
 "cells": [
  {
   "cell_type": "code",
   "execution_count": 1,
   "id": "74e15f59",
   "metadata": {},
   "outputs": [],
   "source": [
    "#library addition\n",
    "import pandas as pd\n",
    "import numpy as np\n",
    "from sklearn.preprocessing import LabelEncoder\n",
    "from tensorflow.keras.wrappers.scikit_learn import KerasClassifier\n",
    "from sklearn.model_selection import cross_validate, cross_val_predict\n",
    "from pathlib import Path"
   ]
  },
  {
   "cell_type": "code",
   "execution_count": 2,
   "id": "857e2db2",
   "metadata": {},
   "outputs": [],
   "source": [
    "#data read\n",
    "clinicalInput = pd.read_excel(Path(\"Balanced Data Set.xlsx\"))"
   ]
  },
  {
   "cell_type": "code",
   "execution_count": 3,
   "id": "e296778c",
   "metadata": {},
   "outputs": [],
   "source": [
    "#determine the number of classes(labels)\n",
    "label_encoder = LabelEncoder().fit(clinicalInput.Label)\n",
    "labels = label_encoder.transform(clinicalInput.Label)\n",
    "classes = list(label_encoder.classes_)"
   ]
  },
  {
   "cell_type": "code",
   "execution_count": 4,
   "id": "f26bcfb2",
   "metadata": {},
   "outputs": [],
   "source": [
    "#data preparation\n",
    "clinicalOutput = clinicalInput[\"Label\"]\n",
    "clinicalInput = clinicalInput.drop([\"Patient ID\", \"Patient age quantile\",\"Label\"],axis=1)"
   ]
  },
  {
   "cell_type": "code",
   "execution_count": 5,
   "id": "153888bd",
   "metadata": {},
   "outputs": [
    {
     "name": "stdout",
     "output_type": "stream",
     "text": [
      "2\n"
     ]
    }
   ],
   "source": [
    "#determine number of features and classes\n",
    "nb_features = 18\n",
    "nb_classes = len(classes)\n",
    "print(nb_classes)"
   ]
  },
  {
   "cell_type": "code",
   "execution_count": 6,
   "id": "20b67db0",
   "metadata": {},
   "outputs": [],
   "source": [
    "#Standardization of train data\n",
    "from sklearn.preprocessing import StandardScaler\n",
    "scaler = StandardScaler().fit(clinicalInput.values)\n",
    "clinicalInput = scaler.transform(clinicalInput.values)"
   ]
  },
  {
   "cell_type": "code",
   "execution_count": 7,
   "id": "f5f403c6",
   "metadata": {},
   "outputs": [],
   "source": [
    "from tensorflow.keras.models import Sequential\n",
    "from tensorflow.keras.layers import Activation, Dense, BatchNormalization\n",
    "from tensorflow.keras import layers\n",
    "\n",
    "from keras import backend as K"
   ]
  },
  {
   "cell_type": "code",
   "execution_count": 8,
   "id": "b2cb116b",
   "metadata": {},
   "outputs": [],
   "source": [
    "def recall_m(y_true, y_pred):\n",
    "    true_positives = K.sum(K.round(K.clip(y_true * y_pred, 0, 1)))\n",
    "    possible_positives = K.sum(K.round(K.clip(y_true, 0, 1)))\n",
    "    recall = true_positives / (possible_positives + K.epsilon())\n",
    "    return recall\n",
    "\n",
    "def precision_m(y_true, y_pred):\n",
    "    true_positives = K.sum(K.round(K.clip(y_true * y_pred, 0, 1)))\n",
    "    predicted_positives = K.sum(K.round(K.clip(y_pred, 0, 1)))\n",
    "    precision = true_positives / (predicted_positives + K.epsilon())\n",
    "    return precision\n",
    "\n",
    "def f1_m(y_true, y_pred):\n",
    "    precision = precision_m(y_true, y_pred)\n",
    "    recall = recall_m(y_true, y_pred)\n",
    "    return 2*((precision*recall)/(precision+recall+K.epsilon()))\n"
   ]
  },
  {
   "cell_type": "code",
   "execution_count": 9,
   "id": "f05be6b0",
   "metadata": {},
   "outputs": [
    {
     "name": "stdout",
     "output_type": "stream",
     "text": [
      "[[ 2.33733862e-01 -2.43875529e-02 -5.23575242e-01 ...  1.10891428e+00\n",
      "  -1.44002434e-03  1.28848209e-03]\n",
      " [-1.57095390e+00 -7.74766806e-01  1.42723113e+00 ...  6.47827206e-01\n",
      "  -9.61677873e-01 -2.63395334e-01]\n",
      " [-7.48564199e-01 -5.87171792e-01 -4.35474300e-01 ... -2.74346787e-01\n",
      "  -9.16572703e-01 -8.95058915e-01]\n",
      " ...\n",
      " [ 7.13460531e-01  1.10118155e+00 -4.98403540e-01 ...  1.86740229e-01\n",
      "   1.42889330e+00  2.26325887e+00]\n",
      " [-3.23857636e+00 -2.77577827e+00 -1.78215992e+00 ... -1.65760770e+00\n",
      "  -8.26362461e-01 -1.08455795e+00]\n",
      " [ 6.90616716e-01  5.38397281e-01 -9.13736516e-01 ... -1.19652078e+00\n",
      "  -4.65521542e-01  1.78769172e-01]]\n",
      "[[1. 0.]\n",
      " [1. 0.]\n",
      " [1. 0.]\n",
      " ...\n",
      " [1. 0.]\n",
      " [1. 0.]\n",
      " [0. 1.]]\n"
     ]
    }
   ],
   "source": [
    "from tensorflow.keras.utils import to_categorical\n",
    "clinicalOutput = to_categorical(clinicalOutput, num_classes=nb_classes)\n",
    "\n",
    "print(clinicalInput)\n",
    "print(clinicalOutput)\n",
    "#clinicalInput = np.array(clinicalInput).reshape(600,18,1)\n",
    "\n",
    "#build cnn model\n",
    "from tensorflow.keras.models import Sequential\n",
    "from tensorflow.keras.layers import Dense, Activation, Conv1D, Dropout, MaxPooling1D, Flatten, SimpleRNN, BatchNormalization\n"
   ]
  },
  {
   "cell_type": "code",
   "execution_count": 18,
   "id": "eee7fc60",
   "metadata": {},
   "outputs": [],
   "source": [
    "def create_network():\n",
    "    model = Sequential()\n",
    "    model.add(SimpleRNN(512,input_shape=(nb_features,1)))\n",
    "    model.add(Activation(\"relu\"))\n",
    "    model.add(Dropout(0.25))\n",
    "    model.add(BatchNormalization())\n",
    "    model.add((Flatten()))\n",
    "    model.add(Dense(2048, activation=\"relu\"))\n",
    "    model.add(Dense(1024, activation=\"relu\"))\n",
    "    model.add(Dense(nb_classes, activation=\"softmax\")) \n",
    "    model.summary()\n",
    "\n",
    "    from tensorflow.keras.optimizers.schedules import ExponentialDecay\n",
    "    from tensorflow.keras.optimizers import SGD\n",
    "    initial_learning_rate = 0.1\n",
    "    decay_steps = 10000\n",
    "    decay_rate = 0.1\n",
    "\n",
    "    lr_schedule = ExponentialDecay(\n",
    "        initial_learning_rate,\n",
    "        decay_steps=decay_steps,\n",
    "        decay_rate=decay_rate,\n",
    "        staircase=True)\n",
    "\n",
    "    opt = SGD(learning_rate=lr_schedule)\n",
    "\n",
    "    model.compile(loss=\"binary_crossentropy\", optimizer = opt, metrics=[\"accuracy\",f1_m,precision_m,recall_m])\n",
    "    return model"
   ]
  },
  {
   "cell_type": "code",
   "execution_count": 19,
   "id": "aab719c7",
   "metadata": {},
   "outputs": [
    {
     "name": "stderr",
     "output_type": "stream",
     "text": [
      "C:\\Users\\akims\\AppData\\Local\\Temp\\ipykernel_26924\\1581329954.py:1: DeprecationWarning: KerasClassifier is deprecated, use Sci-Keras (https://github.com/adriangb/scikeras) instead. See https://www.adriangb.com/scikeras/stable/migration.html for help migrating.\n",
      "  neural_network = KerasClassifier(build_fn=create_network,\n"
     ]
    }
   ],
   "source": [
    "neural_network = KerasClassifier(build_fn=create_network, \n",
    "                                 epochs=250)\n",
    "\n",
    "\n"
   ]
  },
  {
   "cell_type": "code",
   "execution_count": 20,
   "id": "f0ba1042",
   "metadata": {},
   "outputs": [],
   "source": [
    "#from sklearn.preprocessing import LabelBinarizer\n",
    "#lb = LabelBinarizer()\n",
    "#clinicalOutput = np.array([number[0] for number in lb.fit_transform(clinicalOutput)])"
   ]
  },
  {
   "cell_type": "code",
   "execution_count": 24,
   "id": "f3d6a6c8",
   "metadata": {},
   "outputs": [
    {
     "name": "stdout",
     "output_type": "stream",
     "text": [
      "Model: \"sequential_8\"\n",
      "_________________________________________________________________\n",
      " Layer (type)                Output Shape              Param #   \n",
      "=================================================================\n",
      " simple_rnn_8 (SimpleRNN)    (None, 512)               263168    \n",
      "                                                                 \n",
      " activation_8 (Activation)   (None, 512)               0         \n",
      "                                                                 \n",
      " dropout_8 (Dropout)         (None, 512)               0         \n",
      "                                                                 \n",
      " batch_normalization_8 (Batc  (None, 512)              2048      \n",
      " hNormalization)                                                 \n",
      "                                                                 \n",
      " flatten_8 (Flatten)         (None, 512)               0         \n",
      "                                                                 \n",
      " dense_24 (Dense)            (None, 2048)              1050624   \n",
      "                                                                 \n",
      " dense_25 (Dense)            (None, 1024)              2098176   \n",
      "                                                                 \n",
      " dense_26 (Dense)            (None, 2)                 2050      \n",
      "                                                                 \n",
      "=================================================================\n",
      "Total params: 3,416,066\n",
      "Trainable params: 3,415,042\n",
      "Non-trainable params: 1,024\n",
      "_________________________________________________________________\n",
      "Epoch 1/250\n",
      "Model: \"sequential_9\"\n",
      "_________________________________________________________________\n",
      " Layer (type)                Output Shape              Param #   \n",
      "=================================================================\n",
      " simple_rnn_9 (SimpleRNN)    (None, 512)               263168    \n",
      "                                                                 \n",
      " activation_9 (Activation)   (None, 512)               0         \n",
      "                                                                 \n",
      " dropout_9 (Dropout)         (None, 512)               0         \n",
      "                                                                 \n",
      " batch_normalization_9 (Batc  (None, 512)              2048      \n",
      " hNormalization)                                                 \n",
      "                                                                 \n",
      " flatten_9 (Flatten)         (None, 512)               0         \n",
      "                                                                 \n",
      " dense_27 (Dense)            (None, 2048)              1050624   \n",
      "                                                                 \n",
      " dense_28 (Dense)            (None, 1024)              2098176   \n",
      "                                                                 \n",
      " dense_29 (Dense)            (None, 2)                 2050      \n",
      "                                                                 \n",
      "=================================================================\n",
      "Total params: 3,416,066\n",
      "Trainable params: 3,415,042\n",
      "Non-trainable params: 1,024\n",
      "_________________________________________________________________\n",
      "Epoch 1/250\n"
     ]
    },
    {
     "ename": "ValueError",
     "evalue": "\nAll the 2 fits failed.\nIt is very likely that your model is misconfigured.\nYou can try to debug the error by setting error_score='raise'.\n\nBelow are more details about the failures:\n--------------------------------------------------------------------------------\n2 fits failed with the following error:\nTraceback (most recent call last):\n  File \"C:\\Users\\akims\\anaconda3\\lib\\site-packages\\sklearn\\model_selection\\_validation.py\", line 686, in _fit_and_score\n    estimator.fit(X_train, y_train, **fit_params)\n  File \"C:\\Users\\akims\\anaconda3\\lib\\site-packages\\keras\\wrappers\\scikit_learn.py\", line 236, in fit\n    return super(KerasClassifier, self).fit(x, y, **kwargs)\n  File \"C:\\Users\\akims\\anaconda3\\lib\\site-packages\\keras\\wrappers\\scikit_learn.py\", line 164, in fit\n    history = self.model.fit(x, y, **fit_args)\n  File \"C:\\Users\\akims\\anaconda3\\lib\\site-packages\\keras\\utils\\traceback_utils.py\", line 67, in error_handler\n    raise e.with_traceback(filtered_tb) from None\n  File \"C:\\Users\\akims\\AppData\\Local\\Temp\\__autograph_generated_filemgw8r8t7.py\", line 15, in tf__train_function\n    retval_ = ag__.converted_call(ag__.ld(step_function), (ag__.ld(self), ag__.ld(iterator)), None, fscope)\nValueError: in user code:\n\n    File \"C:\\Users\\akims\\anaconda3\\lib\\site-packages\\keras\\engine\\training.py\", line 1051, in train_function  *\n        return step_function(self, iterator)\n    File \"C:\\Users\\akims\\anaconda3\\lib\\site-packages\\keras\\engine\\training.py\", line 1040, in step_function  **\n        outputs = model.distribute_strategy.run(run_step, args=(data,))\n    File \"C:\\Users\\akims\\anaconda3\\lib\\site-packages\\keras\\engine\\training.py\", line 1030, in run_step  **\n        outputs = model.train_step(data)\n    File \"C:\\Users\\akims\\anaconda3\\lib\\site-packages\\keras\\engine\\training.py\", line 894, in train_step\n        return self.compute_metrics(x, y, y_pred, sample_weight)\n    File \"C:\\Users\\akims\\anaconda3\\lib\\site-packages\\keras\\engine\\training.py\", line 987, in compute_metrics\n        self.compiled_metrics.update_state(y, y_pred, sample_weight)\n    File \"C:\\Users\\akims\\anaconda3\\lib\\site-packages\\keras\\engine\\compile_utils.py\", line 480, in update_state\n        self.build(y_pred, y_true)\n    File \"C:\\Users\\akims\\anaconda3\\lib\\site-packages\\keras\\engine\\compile_utils.py\", line 393, in build\n        self._metrics = tf.__internal__.nest.map_structure_up_to(\n    File \"C:\\Users\\akims\\anaconda3\\lib\\site-packages\\keras\\engine\\compile_utils.py\", line 526, in _get_metric_objects\n        return [self._get_metric_object(m, y_t, y_p) for m in metrics]\n    File \"C:\\Users\\akims\\anaconda3\\lib\\site-packages\\keras\\engine\\compile_utils.py\", line 526, in <listcomp>\n        return [self._get_metric_object(m, y_t, y_p) for m in metrics]\n    File \"C:\\Users\\akims\\anaconda3\\lib\\site-packages\\keras\\engine\\compile_utils.py\", line 545, in _get_metric_object\n        metric_obj = metrics_mod.get(metric)\n    File \"C:\\Users\\akims\\anaconda3\\lib\\site-packages\\keras\\metrics\\__init__.py\", line 182, in get\n        return deserialize(str(identifier))\n    File \"C:\\Users\\akims\\anaconda3\\lib\\site-packages\\keras\\metrics\\__init__.py\", line 138, in deserialize\n        return deserialize_keras_object(\n    File \"C:\\Users\\akims\\anaconda3\\lib\\site-packages\\keras\\utils\\generic_utils.py\", line 709, in deserialize_keras_object\n        raise ValueError(\n\n    ValueError: Unknown metric function: f1. Please ensure this object is passed to the `custom_objects` argument. See https://www.tensorflow.org/guide/keras/save_and_serialize#registering_the_custom_object for details.\n\n",
     "output_type": "error",
     "traceback": [
      "\u001b[1;31m---------------------------------------------------------------------------\u001b[0m",
      "\u001b[1;31mValueError\u001b[0m                                Traceback (most recent call last)",
      "\u001b[1;32m~\\AppData\\Local\\Temp\\ipykernel_26924\\3853012453.py\u001b[0m in \u001b[0;36m<module>\u001b[1;34m\u001b[0m\n\u001b[1;32m----> 1\u001b[1;33m \u001b[0mresults\u001b[0m \u001b[1;33m=\u001b[0m \u001b[0mcross_validate\u001b[0m\u001b[1;33m(\u001b[0m\u001b[0mneural_network\u001b[0m\u001b[1;33m,\u001b[0m \u001b[0mclinicalInput\u001b[0m\u001b[1;33m,\u001b[0m \u001b[0mclinicalOutput\u001b[0m\u001b[1;33m,\u001b[0m\u001b[0mcv\u001b[0m\u001b[1;33m=\u001b[0m\u001b[1;36m2\u001b[0m\u001b[1;33m,\u001b[0m\u001b[0mscoring\u001b[0m\u001b[1;33m=\u001b[0m\u001b[1;33m(\u001b[0m\u001b[1;34m\"accuracy\"\u001b[0m\u001b[1;33m,\u001b[0m\u001b[1;34m\"f1\"\u001b[0m\u001b[1;33m,\u001b[0m\u001b[1;34m\"recall\"\u001b[0m\u001b[1;33m,\u001b[0m\u001b[1;34m\"precision\"\u001b[0m\u001b[1;33m)\u001b[0m\u001b[1;33m)\u001b[0m\u001b[1;33m\u001b[0m\u001b[1;33m\u001b[0m\u001b[0m\n\u001b[0m\u001b[0;32m      2\u001b[0m \u001b[1;33m\u001b[0m\u001b[0m\n\u001b[0;32m      3\u001b[0m \u001b[1;33m\u001b[0m\u001b[0m\n\u001b[0;32m      4\u001b[0m \u001b[1;32mimport\u001b[0m \u001b[0mmatplotlib\u001b[0m\u001b[1;33m.\u001b[0m\u001b[0mpyplot\u001b[0m \u001b[1;32mas\u001b[0m \u001b[0mplt\u001b[0m\u001b[1;33m\u001b[0m\u001b[1;33m\u001b[0m\u001b[0m\n\u001b[0;32m      5\u001b[0m \u001b[0mplt\u001b[0m\u001b[1;33m.\u001b[0m\u001b[0mplot\u001b[0m\u001b[1;33m(\u001b[0m\u001b[0mresults\u001b[0m\u001b[1;33m[\u001b[0m\u001b[1;34m\"test_accuracy\"\u001b[0m\u001b[1;33m]\u001b[0m\u001b[1;33m,\u001b[0m\u001b[0mcolor\u001b[0m\u001b[1;33m=\u001b[0m\u001b[1;34m\"c\"\u001b[0m\u001b[1;33m)\u001b[0m\u001b[1;33m\u001b[0m\u001b[1;33m\u001b[0m\u001b[0m\n",
      "\u001b[1;32m~\\anaconda3\\lib\\site-packages\\sklearn\\model_selection\\_validation.py\u001b[0m in \u001b[0;36mcross_validate\u001b[1;34m(estimator, X, y, groups, scoring, cv, n_jobs, verbose, fit_params, pre_dispatch, return_train_score, return_estimator, error_score)\u001b[0m\n\u001b[0;32m    283\u001b[0m     )\n\u001b[0;32m    284\u001b[0m \u001b[1;33m\u001b[0m\u001b[0m\n\u001b[1;32m--> 285\u001b[1;33m     \u001b[0m_warn_or_raise_about_fit_failures\u001b[0m\u001b[1;33m(\u001b[0m\u001b[0mresults\u001b[0m\u001b[1;33m,\u001b[0m \u001b[0merror_score\u001b[0m\u001b[1;33m)\u001b[0m\u001b[1;33m\u001b[0m\u001b[1;33m\u001b[0m\u001b[0m\n\u001b[0m\u001b[0;32m    286\u001b[0m \u001b[1;33m\u001b[0m\u001b[0m\n\u001b[0;32m    287\u001b[0m     \u001b[1;31m# For callabe scoring, the return type is only know after calling. If the\u001b[0m\u001b[1;33m\u001b[0m\u001b[1;33m\u001b[0m\u001b[0m\n",
      "\u001b[1;32m~\\anaconda3\\lib\\site-packages\\sklearn\\model_selection\\_validation.py\u001b[0m in \u001b[0;36m_warn_or_raise_about_fit_failures\u001b[1;34m(results, error_score)\u001b[0m\n\u001b[0;32m    365\u001b[0m                 \u001b[1;34mf\"Below are more details about the failures:\\n{fit_errors_summary}\"\u001b[0m\u001b[1;33m\u001b[0m\u001b[1;33m\u001b[0m\u001b[0m\n\u001b[0;32m    366\u001b[0m             )\n\u001b[1;32m--> 367\u001b[1;33m             \u001b[1;32mraise\u001b[0m \u001b[0mValueError\u001b[0m\u001b[1;33m(\u001b[0m\u001b[0mall_fits_failed_message\u001b[0m\u001b[1;33m)\u001b[0m\u001b[1;33m\u001b[0m\u001b[1;33m\u001b[0m\u001b[0m\n\u001b[0m\u001b[0;32m    368\u001b[0m \u001b[1;33m\u001b[0m\u001b[0m\n\u001b[0;32m    369\u001b[0m         \u001b[1;32melse\u001b[0m\u001b[1;33m:\u001b[0m\u001b[1;33m\u001b[0m\u001b[1;33m\u001b[0m\u001b[0m\n",
      "\u001b[1;31mValueError\u001b[0m: \nAll the 2 fits failed.\nIt is very likely that your model is misconfigured.\nYou can try to debug the error by setting error_score='raise'.\n\nBelow are more details about the failures:\n--------------------------------------------------------------------------------\n2 fits failed with the following error:\nTraceback (most recent call last):\n  File \"C:\\Users\\akims\\anaconda3\\lib\\site-packages\\sklearn\\model_selection\\_validation.py\", line 686, in _fit_and_score\n    estimator.fit(X_train, y_train, **fit_params)\n  File \"C:\\Users\\akims\\anaconda3\\lib\\site-packages\\keras\\wrappers\\scikit_learn.py\", line 236, in fit\n    return super(KerasClassifier, self).fit(x, y, **kwargs)\n  File \"C:\\Users\\akims\\anaconda3\\lib\\site-packages\\keras\\wrappers\\scikit_learn.py\", line 164, in fit\n    history = self.model.fit(x, y, **fit_args)\n  File \"C:\\Users\\akims\\anaconda3\\lib\\site-packages\\keras\\utils\\traceback_utils.py\", line 67, in error_handler\n    raise e.with_traceback(filtered_tb) from None\n  File \"C:\\Users\\akims\\AppData\\Local\\Temp\\__autograph_generated_filemgw8r8t7.py\", line 15, in tf__train_function\n    retval_ = ag__.converted_call(ag__.ld(step_function), (ag__.ld(self), ag__.ld(iterator)), None, fscope)\nValueError: in user code:\n\n    File \"C:\\Users\\akims\\anaconda3\\lib\\site-packages\\keras\\engine\\training.py\", line 1051, in train_function  *\n        return step_function(self, iterator)\n    File \"C:\\Users\\akims\\anaconda3\\lib\\site-packages\\keras\\engine\\training.py\", line 1040, in step_function  **\n        outputs = model.distribute_strategy.run(run_step, args=(data,))\n    File \"C:\\Users\\akims\\anaconda3\\lib\\site-packages\\keras\\engine\\training.py\", line 1030, in run_step  **\n        outputs = model.train_step(data)\n    File \"C:\\Users\\akims\\anaconda3\\lib\\site-packages\\keras\\engine\\training.py\", line 894, in train_step\n        return self.compute_metrics(x, y, y_pred, sample_weight)\n    File \"C:\\Users\\akims\\anaconda3\\lib\\site-packages\\keras\\engine\\training.py\", line 987, in compute_metrics\n        self.compiled_metrics.update_state(y, y_pred, sample_weight)\n    File \"C:\\Users\\akims\\anaconda3\\lib\\site-packages\\keras\\engine\\compile_utils.py\", line 480, in update_state\n        self.build(y_pred, y_true)\n    File \"C:\\Users\\akims\\anaconda3\\lib\\site-packages\\keras\\engine\\compile_utils.py\", line 393, in build\n        self._metrics = tf.__internal__.nest.map_structure_up_to(\n    File \"C:\\Users\\akims\\anaconda3\\lib\\site-packages\\keras\\engine\\compile_utils.py\", line 526, in _get_metric_objects\n        return [self._get_metric_object(m, y_t, y_p) for m in metrics]\n    File \"C:\\Users\\akims\\anaconda3\\lib\\site-packages\\keras\\engine\\compile_utils.py\", line 526, in <listcomp>\n        return [self._get_metric_object(m, y_t, y_p) for m in metrics]\n    File \"C:\\Users\\akims\\anaconda3\\lib\\site-packages\\keras\\engine\\compile_utils.py\", line 545, in _get_metric_object\n        metric_obj = metrics_mod.get(metric)\n    File \"C:\\Users\\akims\\anaconda3\\lib\\site-packages\\keras\\metrics\\__init__.py\", line 182, in get\n        return deserialize(str(identifier))\n    File \"C:\\Users\\akims\\anaconda3\\lib\\site-packages\\keras\\metrics\\__init__.py\", line 138, in deserialize\n        return deserialize_keras_object(\n    File \"C:\\Users\\akims\\anaconda3\\lib\\site-packages\\keras\\utils\\generic_utils.py\", line 709, in deserialize_keras_object\n        raise ValueError(\n\n    ValueError: Unknown metric function: f1. Please ensure this object is passed to the `custom_objects` argument. See https://www.tensorflow.org/guide/keras/save_and_serialize#registering_the_custom_object for details.\n\n"
     ]
    }
   ],
   "source": [
    "results = cross_validate(neural_network, clinicalInput, clinicalOutput,cv=2,scoring=(\"accuracy\",\"f1\",\"recall\",\"precision\"))\n",
    "\n",
    "\n",
    "import matplotlib.pyplot as plt\n",
    "plt.plot(results[\"test_accuracy\"],color=\"c\")\n",
    "plt.plot(results[\"test_f1\"],color=\"m\")\n",
    "plt.plot(results[\"test_recall\"],color=\"y\")\n",
    "plt.plot(results[\"test_precision\"],color=\"k\")\n",
    "plt.title(\"Model Information (RNN)\")\n",
    "plt.ylabel(\"Model Performance\")\n",
    "plt.xlabel(\"Number of Folds\")\n",
    "plt.legend([\"Accuracy\",\"F1-Score\",\"Recall\",\"Precision\"], loc=\"lower right\")\n",
    "plt.show()\n",
    "print (\"neural_network: \",neural_network,\"\\n clinicalInput: \",clinicalInput,\"\\n clinicalOutput: \",clinicalOutput)\n",
    "#Determine the prediction\n",
    "y_pred = cross_val_predict(neural_network, clinicalInput, clinicalOutput, cv=2)\n",
    "\n",
    "\n",
    "#Provide AUC score\n",
    "from sklearn.metrics import roc_auc_score\n",
    "print(\"Accuracy result: \", np.mean(results[\"test_accuracy\"]))\n",
    "print(\"Recall result: \", np.mean(results[\"test_recall\"]))\n",
    "print(\"Precision result: \", np.mean(results[\"test_precision\"]))\n",
    "print(\"F1 result: \", np.mean(results[\"test_f1\"]))\n",
    "##print(\"ROC: \", roc_auc_score(clinicalOutput, y_pred))\n",
    "\n"
   ]
  },
  {
   "cell_type": "code",
   "execution_count": null,
   "id": "7cc1715c",
   "metadata": {},
   "outputs": [],
   "source": [
    "results"
   ]
  },
  {
   "cell_type": "code",
   "execution_count": 22,
   "id": "0d4e8e9a",
   "metadata": {},
   "outputs": [
    {
     "name": "stdout",
     "output_type": "stream",
     "text": [
      "[[1. 0.]\n",
      " [1. 0.]\n",
      " [1. 0.]\n",
      " [1. 0.]\n",
      " [1. 0.]\n",
      " [1. 0.]\n",
      " [1. 0.]\n",
      " [1. 0.]\n",
      " [1. 0.]\n",
      " [1. 0.]]\n"
     ]
    }
   ],
   "source": [
    "print(clinicalOutput[:10])"
   ]
  },
  {
   "cell_type": "code",
   "execution_count": 17,
   "id": "57967b37",
   "metadata": {},
   "outputs": [
    {
     "data": {
      "text/plain": [
       "600"
      ]
     },
     "execution_count": 17,
     "metadata": {},
     "output_type": "execute_result"
    }
   ],
   "source": [
    "len(y_pred)"
   ]
  },
  {
   "cell_type": "code",
   "execution_count": null,
   "id": "567d789f",
   "metadata": {},
   "outputs": [],
   "source": []
  }
 ],
 "metadata": {
  "kernelspec": {
   "display_name": "Python 3 (ipykernel)",
   "language": "python",
   "name": "python3"
  },
  "language_info": {
   "codemirror_mode": {
    "name": "ipython",
    "version": 3
   },
   "file_extension": ".py",
   "mimetype": "text/x-python",
   "name": "python",
   "nbconvert_exporter": "python",
   "pygments_lexer": "ipython3",
   "version": "3.9.15"
  }
 },
 "nbformat": 4,
 "nbformat_minor": 5
}
